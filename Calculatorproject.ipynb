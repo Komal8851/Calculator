{
 "cells": [
  {
   "cell_type": "code",
   "execution_count": null,
   "id": "7266fbe5-74aa-4ab4-93ce-a9ceca2044ac",
   "metadata": {},
   "outputs": [
    {
     "name": "stdout",
     "output_type": "stream",
     "text": [
      "\n",
      "Calculator Menu:\n",
      "1. Perform a calculation\n",
      "2. Exit the program\n"
     ]
    }
   ],
   "source": [
    "# Calculator Functions\n",
    "def add(x, y):\n",
    "    \"\"\"Return the sum of two numbers.\"\"\"\n",
    "    return x + y\n",
    "\n",
    "def subtract(x, y):\n",
    "    \"\"\"Return the difference of two numbers.\"\"\"\n",
    "    return x - y\n",
    "\n",
    "def multiply(x, y):\n",
    "    \"\"\"Return the product of two numbers.\"\"\"\n",
    "    return x * y\n",
    "\n",
    "def divide(x, y):\n",
    "    \"\"\"Return the quotient of two numbers.\"\"\"\n",
    "    if y == 0:\n",
    "        raise ValueError(\"Cannot divide by zero!\")\n",
    "    return x / y\n",
    "\n",
    "def power(x, y):\n",
    "    \"\"\"Return the result of x raised to the power of y.\"\"\"\n",
    "    return x ** y\n",
    "\n",
    "# User Input and Error Handling\n",
    "def get_user_input():\n",
    "    \"\"\"Get user input for two numbers and an operation.\"\"\"\n",
    "    while True:\n",
    "        try:\n",
    "            num1 = float(input(\"Enter the first number: \"))\n",
    "            num2 = float(input(\"Enter the second number: \"))\n",
    "            operation = input(\"Enter the operation (+, -, *, /, ^): \")\n",
    "            return num1, num2, operation\n",
    "        except ValueError:\n",
    "            print(\"Invalid input. Please enter a number.\")\n",
    "\n",
    "def perform_calculation(num1, num2, operation):\n",
    "    \"\"\"Perform the calculation based on the user's input.\"\"\"\n",
    "    try:\n",
    "        if operation == \"+\":\n",
    "            result = add(num1, num2)\n",
    "        elif operation == \"-\":\n",
    "            result = subtract(num1, num2)\n",
    "        elif operation == \"*\":\n",
    "            result = multiply(num1, num2)\n",
    "        elif operation == \"/\":\n",
    "            result = divide(num1, num2)\n",
    "        elif operation == \"^\":\n",
    "            result = power(num1, num2)\n",
    "        else:\n",
    "            raise ValueError(\"Invalid operation.\")\n",
    "        return result\n",
    "    except ValueError as e:\n",
    "        return str(e)\n",
    "\n",
    "# User Menu\n",
    "def main():\n",
    "    \"\"\"Main function to run the calculator.\"\"\"\n",
    "    while True:\n",
    "        print(\"\\nCalculator Menu:\")\n",
    "        print(\"1. Perform a calculation\")\n",
    "        print(\"2. Exit the program\")\n",
    "        choice = input(\"Enter your choice: \")\n",
    "        if choice == \"1\":\n",
    "            num1, num2, operation = get_user_input()\n",
    "            result = perform_calculation(num1, num2, operation)\n",
    "            print(f\"Result: {result}\")\n",
    "        elif choice == \"2\":\n",
    "            print(\"Exiting the program. Goodbye!\")\n",
    "            break\n",
    "        else:\n",
    "            print(\"Invalid choice. Please try again.\")\n",
    "\n",
    "if __name__ == \"__main__\":\n",
    "    main()"
   ]
  },
  {
   "cell_type": "code",
   "execution_count": null,
   "id": "cd472998-ffed-4b72-bb4d-3a45fa5cbd56",
   "metadata": {},
   "outputs": [],
   "source": []
  }
 ],
 "metadata": {
  "kernelspec": {
   "display_name": "Python 3 (ipykernel)",
   "language": "python",
   "name": "python3"
  },
  "language_info": {
   "codemirror_mode": {
    "name": "ipython",
    "version": 3
   },
   "file_extension": ".py",
   "mimetype": "text/x-python",
   "name": "python",
   "nbconvert_exporter": "python",
   "pygments_lexer": "ipython3",
   "version": "3.12.4"
  }
 },
 "nbformat": 4,
 "nbformat_minor": 5
}
